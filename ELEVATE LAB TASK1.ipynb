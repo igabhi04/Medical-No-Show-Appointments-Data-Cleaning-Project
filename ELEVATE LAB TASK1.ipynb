{
 "cells": [
  {
   "cell_type": "code",
   "execution_count": 1,
   "id": "eec10456-f7af-4bc3-ae3a-682c05122837",
   "metadata": {},
   "outputs": [],
   "source": [
    "import pandas as pd"
   ]
  },
  {
   "cell_type": "code",
   "execution_count": 2,
   "id": "f3aff921-1ea4-4be6-94f5-e76ed908bf90",
   "metadata": {},
   "outputs": [],
   "source": [
    "df = pd.read_csv('KaggleV2-May-2016.csv')"
   ]
  },
  {
   "cell_type": "code",
   "execution_count": 3,
   "id": "eeaad959-d238-4b39-baaa-7528f694cf74",
   "metadata": {},
   "outputs": [
    {
     "name": "stdout",
     "output_type": "stream",
     "text": [
      "<class 'pandas.core.frame.DataFrame'>\n",
      "RangeIndex: 110527 entries, 0 to 110526\n",
      "Data columns (total 14 columns):\n",
      " #   Column          Non-Null Count   Dtype  \n",
      "---  ------          --------------   -----  \n",
      " 0   PatientId       110527 non-null  float64\n",
      " 1   AppointmentID   110527 non-null  int64  \n",
      " 2   Gender          110527 non-null  object \n",
      " 3   ScheduledDay    110527 non-null  object \n",
      " 4   AppointmentDay  110527 non-null  object \n",
      " 5   Age             110527 non-null  int64  \n",
      " 6   Neighbourhood   110527 non-null  object \n",
      " 7   Scholarship     110527 non-null  int64  \n",
      " 8   Hipertension    110527 non-null  int64  \n",
      " 9   Diabetes        110527 non-null  int64  \n",
      " 10  Alcoholism      110527 non-null  int64  \n",
      " 11  Handcap         110527 non-null  int64  \n",
      " 12  SMS_received    110527 non-null  int64  \n",
      " 13  No-show         110527 non-null  object \n",
      "dtypes: float64(1), int64(8), object(5)\n",
      "memory usage: 11.8+ MB\n",
      "None\n"
     ]
    }
   ],
   "source": [
    "print(df.info())"
   ]
  },
  {
   "cell_type": "code",
   "execution_count": 4,
   "id": "2e01890e-b2e2-49ab-900b-614605293a3a",
   "metadata": {},
   "outputs": [
    {
     "name": "stdout",
     "output_type": "stream",
     "text": [
      "PatientId         0\n",
      "AppointmentID     0\n",
      "Gender            0\n",
      "ScheduledDay      0\n",
      "AppointmentDay    0\n",
      "Age               0\n",
      "Neighbourhood     0\n",
      "Scholarship       0\n",
      "Hipertension      0\n",
      "Diabetes          0\n",
      "Alcoholism        0\n",
      "Handcap           0\n",
      "SMS_received      0\n",
      "No-show           0\n",
      "dtype: int64\n"
     ]
    }
   ],
   "source": [
    "# Check for missing values\n",
    "print(df.isnull().sum())\n"
   ]
  },
  {
   "cell_type": "code",
   "execution_count": 5,
   "id": "02b0b1ec-7ba3-4109-8f53-0380a3f571a7",
   "metadata": {},
   "outputs": [
    {
     "name": "stdout",
     "output_type": "stream",
     "text": [
      "Duplicates before: 0\n",
      "Duplicates after: 0\n"
     ]
    }
   ],
   "source": [
    "# Check for duplicates\n",
    "print(f\"Duplicates before: {df.duplicated().sum()}\")\n",
    "\n",
    "# Remove duplicates\n",
    "df = df.drop_duplicates()\n",
    "\n",
    "# Confirm removal\n",
    "print(f\"Duplicates after: {df.duplicated().sum()}\")\n"
   ]
  },
  {
   "cell_type": "code",
   "execution_count": 7,
   "id": "35bce622-95be-405d-9102-0e8e2672259f",
   "metadata": {},
   "outputs": [],
   "source": [
    "# Standardize Gender to uppercase\n",
    "df['Gender'] = df['Gender'].str.upper()\n",
    "\n",
    "# Strip whitespace and standardize No-show\n",
    "df['No-show'] = df['No-show'].str.strip().str.capitalize()\n"
   ]
  },
  {
   "cell_type": "code",
   "execution_count": 8,
   "id": "e040c133-91d7-4cc0-9985-67921010e49e",
   "metadata": {},
   "outputs": [],
   "source": [
    "# Convert date columns to datetime\n",
    "df['ScheduledDay'] = pd.to_datetime(df['ScheduledDay']).dt.strftime('%d-%m-%Y')\n",
    "df['AppointmentDay'] = pd.to_datetime(df['AppointmentDay']).dt.strftime('%d-%m-%Y')\n"
   ]
  },
  {
   "cell_type": "code",
   "execution_count": 9,
   "id": "932155f7-c879-451b-ae67-347e4cd868b7",
   "metadata": {},
   "outputs": [
    {
     "name": "stdout",
     "output_type": "stream",
     "text": [
      "Index(['patientid', 'appointmentid', 'gender', 'scheduledday',\n",
      "       'appointmentday', 'age', 'neighbourhood', 'scholarship', 'hipertension',\n",
      "       'diabetes', 'alcoholism', 'handcap', 'sms_received', 'no_show'],\n",
      "      dtype='object')\n"
     ]
    }
   ],
   "source": [
    "# Clean column names: lowercase, replace spaces with underscores\n",
    "df.columns = df.columns.str.strip().str.lower().str.replace('-', '_').str.replace(' ', '_')\n",
    "print(df.columns)\n"
   ]
  },
  {
   "cell_type": "code",
   "execution_count": 10,
   "id": "027deb06-4446-464e-a5a9-01e5ce9395b3",
   "metadata": {},
   "outputs": [
    {
     "name": "stdout",
     "output_type": "stream",
     "text": [
      "patientid         float64\n",
      "appointmentid       int64\n",
      "gender             object\n",
      "scheduledday       object\n",
      "appointmentday     object\n",
      "age                 int64\n",
      "neighbourhood      object\n",
      "scholarship         int64\n",
      "hipertension        int64\n",
      "diabetes            int64\n",
      "alcoholism          int64\n",
      "handcap             int64\n",
      "sms_received        int64\n",
      "no_show            object\n",
      "dtype: object\n"
     ]
    }
   ],
   "source": [
    "# Check data types\n",
    "print(df.dtypes)\n",
    "\n",
    "# Convert age to integer if not already\n",
    "df['age'] = df['age'].astype(int)\n",
    "\n",
    "# Convert dates back to datetime if needed for analysis\n",
    "df['scheduledday'] = pd.to_datetime(df['scheduledday'], format='%d-%m-%Y')\n",
    "df['appointmentday'] = pd.to_datetime(df['appointmentday'], format='%d-%m-%Y')\n"
   ]
  },
  {
   "cell_type": "code",
   "execution_count": null,
   "id": "dc6ed491-3e17-4110-9e78-c43b08765349",
   "metadata": {},
   "outputs": [],
   "source": []
  }
 ],
 "metadata": {
  "kernelspec": {
   "display_name": "Python 3 (ipykernel)",
   "language": "python",
   "name": "python3"
  },
  "language_info": {
   "codemirror_mode": {
    "name": "ipython",
    "version": 3
   },
   "file_extension": ".py",
   "mimetype": "text/x-python",
   "name": "python",
   "nbconvert_exporter": "python",
   "pygments_lexer": "ipython3",
   "version": "3.12.7"
  }
 },
 "nbformat": 4,
 "nbformat_minor": 5
}
